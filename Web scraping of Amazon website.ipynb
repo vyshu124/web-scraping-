{
 "cells": [
  {
   "cell_type": "code",
   "execution_count": null,
   "metadata": {},
   "outputs": [],
   "source": [
    "from bs4 import BeautifulSoup\n",
    "import pandas as pd\n",
    "import requests\n",
    "import time\n",
    "from datetime import datetime\n",
    "pd.set_option(\"display.max_colwidth\", -1)"
   ]
  },
  {
   "cell_type": "code",
   "execution_count": null,
   "metadata": {},
   "outputs": [],
   "source": [
    "!pip install requests"
   ]
  },
  {
   "cell_type": "code",
   "execution_count": null,
   "metadata": {},
   "outputs": [],
   "source": [
    "def scrape():\n",
    "    url='https://en.wikipedia.org/wiki/Web_scraping'\n",
    "    soup=BeautifulSoup(requests.get(url).content)\n",
    "    #soup.prettify()\n",
    "    content=soup.find(attrs={'class':\"mw-parser-output\"}).text\n",
    "\n",
    "    data={'Text':content}\n",
    "    df=pd.DataFrame({'Text':content},index=[0])\n",
    "    now=datetime.now().strftime(\"-%Y-%m-%d %H-%M-%S\")\n",
    "    name=\"test\"+ str(now)+'.csv'\n",
    "    df.to_csv(name)"
   ]
  },
  {
   "cell_type": "code",
   "execution_count": null,
   "metadata": {},
   "outputs": [],
   "source": [
    "while True:\n",
    "    scrape()\n",
    "    time.sleep(14400) #14400 seconds   #4 hours=4*60*60"
   ]
  },
  {
   "cell_type": "code",
   "execution_count": null,
   "metadata": {},
   "outputs": [],
   "source": []
  },
  {
   "cell_type": "code",
   "execution_count": null,
   "metadata": {},
   "outputs": [],
   "source": [
    " "
   ]
  }
 ],
 "metadata": {
  "kernelspec": {
   "display_name": "Python 3",
   "language": "python",
   "name": "python3"
  },
  "language_info": {
   "codemirror_mode": {
    "name": "ipython",
    "version": 3
   },
   "file_extension": ".py",
   "mimetype": "text/x-python",
   "name": "python",
   "nbconvert_exporter": "python",
   "pygments_lexer": "ipython3",
   "version": "3.7.4"
  }
 },
 "nbformat": 4,
 "nbformat_minor": 2
}
